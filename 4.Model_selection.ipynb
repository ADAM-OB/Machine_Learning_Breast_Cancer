{
 "cells": [
  {
   "cell_type": "markdown",
   "metadata": {},
   "source": [
    "## Support Vector Machines \n",
    "\n",
    "My summary of SVMs based on my notes from the Applied Machine Learning course from University of Michagan \n",
    "* SVMs has a similar form of linear regression, but the outpout of the linear function is transformed (e.g. Sin function) to produce binary outpout with 2 possible values  \n",
    "* This means converting the description of the line (that seperates the classes) into a form that be used as a decision rule for a classifier\n",
    "* Classifier Margin: Maximum width the decision boundary can be extended before hitting a data point\n",
    "* One way to define a good classifier is to reward for the amount of seperation between classes \n",
    "* Maximum margin classifier: the linear classifier with maximum margin = Linear SVM \n",
    "\n",
    "## Kernalized Support Vector Machines \n",
    "\n",
    "* When classes in a dataset are not linearly seperable, it is sometimes impossible to classify them with a linear classifier, such as a Linear SVM\n",
    "* A powerful extension of LSVMs is KSVMs which provides more complex models beyond linearity. \n",
    "* KSVM take the original input data space and transform it into a higher-dimesnional feature-space where it becomes easier to classify the data using a linear classifer (e.g. mapping each 1-D point to a 2-D pair)\n",
    "* With this transformation, we can find a hyper-plane (say z=0.9) that easily seperates the classes \n",
    "* different kernels corrspond to different transformations to that higher dimensional feature-space\n",
    "* Kernels: RBF (Radial Basis Function), (Polynomial), ...\n",
    "\n",
    "* The Kernel trick & Vapnik \n",
    "\n",
    "### Important parameters \n",
    "* __C__: Regularization\n",
    "\n",
    "    * Increasing C reduces regularization and results in more model complexity. This will cause the model to fit the training data with as few errors as possible even if it means a smaller classifier margin \n",
    "    * Reducing C increases regularization, simpler models, encourages classifier to find larger classifier margin even if that decision boundary leads to more points being misclassified\n",
    "\n",
    "\n",
    "* __Kernel specific:RBF - Gamma__: Radius of similarity\n",
    "    * Increasing gamma = sharpening the kernel = the kernel values decay more rapidly. Which means points have to be very close to be considered similar\n",
    "    * Decreasing gamma = Large similarity radius, so points further apart from each other are considered similar = more points grouped together = smoother decision boundaries\n"
   ]
  },
  {
   "cell_type": "code",
   "execution_count": 1,
   "metadata": {},
   "outputs": [],
   "source": [
    "%matplotlib inline\n",
    "import seaborn as sns \n",
    "import matplotlib.pyplot as plt\n",
    "import pandas as pd \n",
    "import numpy as np\n",
    "from scipy.stats import norm\n",
    "from sklearn.preprocessing import StandardScaler\n",
    "from sklearn.preprocessing import LabelEncoder\n",
    "from sklearn.model_selection import train_test_split\n",
    "from sklearn.svm import SVC\n",
    "from sklearn.model_selection import cross_val_score\n",
    "from sklearn.pipeline import make_pipeline\n",
    "from sklearn.metrics import confusion_matrix\n",
    "from sklearn import metrics, preprocessing\n",
    "from sklearn.metrics import classification_report\n",
    "from sklearn.metrics import roc_curve, auc\n",
    "from IPython.display import Image, display\n"
   ]
  },
  {
   "cell_type": "code",
   "execution_count": 2,
   "metadata": {},
   "outputs": [
    {
     "name": "stderr",
     "output_type": "stream",
     "text": [
      "C:\\Users\\AdamO\\Anaconda3\\lib\\site-packages\\sklearn\\utils\\validation.py:475: DataConversionWarning: Data with input dtype object was converted to float64 by StandardScaler.\n",
      "  warnings.warn(msg, DataConversionWarning)\n",
      "C:\\Users\\AdamO\\Anaconda3\\lib\\site-packages\\sklearn\\utils\\validation.py:475: DataConversionWarning: Data with input dtype object was converted to float64 by StandardScaler.\n",
      "  warnings.warn(msg, DataConversionWarning)\n"
     ]
    }
   ],
   "source": [
    "# loading the data, pre-paring features and labels \n",
    "data = pd.read_csv('data.csv', index_col=False)\n",
    "data.drop('id',axis=1, inplace=True)\n",
    "data = data.values\n",
    "X = data[:,1:31] # features\n",
    "y = data[:,0]\n",
    "\n",
    "# Converting categorical labels to numerical 0,1\n",
    "le = LabelEncoder()\n",
    "y = le.fit_transform(y)\n",
    "\n",
    "# Feature - Normalization \n",
    "scaler = StandardScaler()\n",
    "X_scaled = scaler.fit_transform(X)\n"
   ]
  },
  {
   "cell_type": "markdown",
   "metadata": {},
   "source": [
    "##  Single Split"
   ]
  },
  {
   "cell_type": "code",
   "execution_count": 3,
   "metadata": {},
   "outputs": [
    {
     "name": "stdout",
     "output_type": "stream",
     "text": [
      "Training set accuracy: 0.9899497487437185\n",
      "Test set accuracy: 0.9532163742690059\n"
     ]
    }
   ],
   "source": [
    "# single split\n",
    "X_train, X_test, y_train, y_test = train_test_split(X_scaled, y, test_size=0.3\n",
    "                                                    , random_state=0, stratify=y)\n",
    "clf = SVC(probability=True).fit(X_train, y_train)\n",
    "\n",
    "print(\"Training set accuracy: {}\".format(clf.score(X_train, y_train)))\n",
    "print(\"Test set accuracy: {}\".format(clf.score(X_test, y_test)))\n",
    "      \n",
    "      "
   ]
  },
  {
   "cell_type": "markdown",
   "metadata": {},
   "source": [
    "## Cross Validation\n",
    "* Cross Validation goes beyond using a single train-test to evaluate performance by using multiple train-test splits (Number of folds)\n",
    "* K-fold cross validation: Training the model using all folds except for one (for evaluation)\n",
    "* Leave-one-out cross validation is an example of an extreme case, where each sample is a single fold\n"
   ]
  },
  {
   "cell_type": "code",
   "execution_count": 4,
   "metadata": {},
   "outputs": [
    {
     "name": "stdout",
     "output_type": "stream",
     "text": [
      "Accuracy scores: [0.96315789 0.98421053 0.97354497]\n",
      "Average accuracy score: 0.9736377981992016\n"
     ]
    }
   ],
   "source": [
    "# 3-Fold Cross Validation \n",
    "cv_error = cross_val_score(clf, X_scaled, y, cv=3)\n",
    "print('Accuracy scores: {}'.format(cv_error))\n",
    "print('Average accuracy score: {}'.format(np.average(cv_error)))"
   ]
  },
  {
   "cell_type": "markdown",
   "metadata": {},
   "source": [
    "### Example of feature selection with Cross Validation"
   ]
  },
  {
   "cell_type": "markdown",
   "metadata": {},
   "source": [
    "\n",
    "* f_regression https://scikit-learn.org/stable/modules/generated/sklearn.feature_selection.f_regression.html\n",
    "* Excellent discussion regarding this technique: https://stats.stackexchange.com/questions/204141/difference-between-selecting-features-based-on-f-regression-and-based-on-r2"
   ]
  },
  {
   "cell_type": "code",
   "execution_count": 5,
   "metadata": {},
   "outputs": [
    {
     "name": "stdout",
     "output_type": "stream",
     "text": [
      "[0.93157895 0.95263158 0.94179894]\n",
      "Average accuracy score: 0.9420031560382438\n"
     ]
    }
   ],
   "source": [
    "from sklearn.feature_selection import SelectKBest, f_regression\n",
    "# Best K features using \n",
    "clf2 = make_pipeline(SelectKBest(f_regression,k=3), SVC(probability=True))\n",
    "scores = cross_val_score(clf2, X_scaled, y, cv=3)\n",
    "print(scores)\n",
    "print('Average accuracy score: {}'.format(np.average(scores)))"
   ]
  },
  {
   "cell_type": "markdown",
   "metadata": {},
   "source": [
    "### By examining the above results:\n",
    "* we can see that a subset of the features in this dataset can produce performance that is considerably similar to the performace of all features combined \n",
    "* Reducing the dataset to using only that subset saves computation time and costs\n"
   ]
  },
  {
   "cell_type": "markdown",
   "metadata": {},
   "source": [
    "## Evaluation Metrics \n",
    "* Confusion matrix is helpful in the sense that it breaks down the classifier performace by the type of the error (Type II and Type I)\n",
    "* The evaluation metric used should be alighned with the goal of the classification task\n",
    "* Many useful evaluation metrics can be derived from the confusion matrix"
   ]
  },
  {
   "cell_type": "code",
   "execution_count": 6,
   "metadata": {},
   "outputs": [
    {
     "name": "stdout",
     "output_type": "stream",
     "text": [
      "[[103   4]\n",
      " [  4  60]]\n"
     ]
    }
   ],
   "source": [
    "# Confusion matrix \n",
    "y_pred = clf.predict(X_test)\n",
    "cm = metrics.confusion_matrix(y_test, y_pred)\n",
    "print(cm)"
   ]
  },
  {
   "cell_type": "code",
   "execution_count": 7,
   "metadata": {},
   "outputs": [
    {
     "data": {
      "image/png": "[encoded data removed]",
      "text/plain": [
       "<Figure size 360x360 with 1 Axes>"
      ]
     },
     "metadata": {},
     "output_type": "display_data"
    }
   ],
   "source": [
    "fig, ax = plt.subplots(figsize=(5, 5))\n",
    "ax.matshow(cm, cmap=plt.cm.Reds, alpha=0.3)\n",
    "\n",
    "for i in range(cm.shape[0]):\n",
    "     for j in range(cm.shape[1]):\n",
    "         ax.text(x=j, y=i,\n",
    "                s=cm[i, j], \n",
    "                va='center', ha='center')\n",
    "plt.xlabel('Predicted Values', )\n",
    "plt.ylabel('Actual Values')\n",
    "plt.show()\n"
   ]
  },
  {
   "cell_type": "code",
   "execution_count": 8,
   "metadata": {},
   "outputs": [
    {
     "name": "stdout",
     "output_type": "stream",
     "text": [
      "             precision    recall  f1-score   support\n",
      "\n",
      "          0       0.96      0.96      0.96       107\n",
      "          1       0.94      0.94      0.94        64\n",
      "\n",
      "avg / total       0.95      0.95      0.95       171\n",
      "\n"
     ]
    }
   ],
   "source": [
    "print(classification_report(y_test, y_pred ))"
   ]
  },
  {
   "cell_type": "markdown",
   "metadata": {},
   "source": [
    "### By examining the above results  \n",
    "* From the confusion matrix, we can see that out of 171 predictions, 163 were correct \n",
    "* (True negative 103 + false negative 4) = 107 samples are as negative (healthy tissue)\n",
    "* (60+4) = 64 samples are positive (cancerous tissue)\n",
    "* FP = Type I error \n",
    "* FN = Type II error\n",
    "\n",
    "#### Metric calcuation summary: \n",
    "\n",
    "* __Accuracy__: (TP+TN)/total = (60+103)/171 = 0.95\n",
    "\n",
    "* __ Classification Error__ : (FP+FN)/total = (4+4)/171 = 0.05\n",
    "\n",
    "\n",
    "* __Recall / True Positive Rate (TPR )/Sensitivity __ = : TP/TP+FN  = 60/64 = 0.94\n",
    "TPR is the fraction of all positive instances that were correctly predicted as positive\n",
    "\n",
    "* __ Precision__ : TP/TP+FP = 60/ 60 + 4 = 0.94\n",
    "\n",
    "\n",
    "* __ False Positive Rate  __ = FP/FP + TN = 4/4+103 = 0.04\n",
    "FPR is the fraction of all negative instances that were incorrectly predicted as positive\n",
    "\n",
    "* __ True Negative Rate__ =  TN / (FP + TN) = 103 / 107 = 0.96  \n",
    "\n",
    "\n",
    "\n",
    "* Combining percision and recall = 2. (Percision * Recall)/(Percision + Recall)\n",
    "    * Based on the harmonic mean of percision and recall\n",
    "    * its a special case of the more general evaluation metric = F Score\n",
    "    * Introudces parameter Beta: controles the emphasis on percision / recall\n",
    "    * B=1 >> F1 Score, B>\n",
    "    * since we want to reduce FN as much as possible for this task, \n",
    "        we set B = 0.5 ((FP hurt performace more than FNs ))\n",
    "    * When B = 2 > Recall oriented situations \n",
    "      \n",
    "####  For this Medical Application we want to reduce type II (False negative) error as much as possible (increasing recall), because the consequences of this error in this case is very serious. It is preferred that the classifier \"errors\" as a safty measure, instead of predicting a sample that is cancerious as healthy. \n",
    "* percision deals with type type I error "
   ]
  },
  {
   "cell_type": "code",
   "execution_count": 9,
   "metadata": {},
   "outputs": [
    {
     "name": "stderr",
     "output_type": "stream",
     "text": [
      "C:\\Users\\AdamO\\Anaconda3\\lib\\site-packages\\matplotlib\\cbook\\deprecation.py:107: MatplotlibDeprecationWarning: Adding an axes using the same arguments as a previous axes currently reuses the earlier instance.  In a future version, a new instance will always be created and returned.  Meanwhile, this warning can be suppressed, and the future behavior ensured, by passing a unique label to each axes instance.\n",
      "  warnings.warn(message, mplDeprecation, stacklevel=1)\n"
     ]
    },
    {
     "data": {
      "image/png": "[encoded data removed]",
      "text/plain": [
       "<Figure size 720x576 with 1 Axes>"
      ]
     },
     "metadata": {},
     "output_type": "display_data"
    }
   ],
   "source": [
    "# Plot the receiver operating characteristic curve (ROC).\n",
    "plt.figure(figsize=(10,8))\n",
    "\n",
    "probas_ = clf.predict_proba(X_test)\n",
    "fpr, tpr, thresholds = roc_curve(y_test, probas_[:, 1])\n",
    "roc_auc = auc(fpr, tpr)\n",
    "\n",
    "plt.plot(fpr, tpr, lw=1, label='ROC fold (area = %0.2f)' % (roc_auc))\n",
    "plt.plot([0, 1], [0, 1], '--', color=(0.6, 0.6, 0.6), label='Random')\n",
    "\n",
    "\n",
    "plt.xlim([-0.05, 1.05])\n",
    "plt.ylim([-0.05, 1.05])\n",
    "plt.xlabel('False Positive Rate')\n",
    "plt.ylabel('True Positive Rate')\n",
    "plt.title('Receiver operating characteristic example')\n",
    "plt.axes().set_aspect(1)"
   ]
  },
  {
   "cell_type": "markdown",
   "metadata": {},
   "source": [
    "## Interpretation\n",
    "\n",
    "* The diagonal line in the middle represents random guessing, no better than a dummy classifier\n",
    "* The more we shift towards the top left corner, the better the performace\n",
    "* The more we shift towards top left,  the more True Positive Rate > Flase Positive Rate\n"
   ]
  },
  {
   "cell_type": "code",
   "execution_count": null,
   "metadata": {},
   "outputs": [],
   "source": []
  }
 ],
 "metadata": {
  "kernelspec": {
   "display_name": "Python 3",
   "language": "python",
   "name": "python3"
  },
  "language_info": {
   "codemirror_mode": {
    "name": "ipython",
    "version": 3
   },
   "file_extension": ".py",
   "mimetype": "text/x-python",
   "name": "python",
   "nbconvert_exporter": "python",
   "pygments_lexer": "ipython3",
   "version": "3.6.5"
  }
 },
 "nbformat": 4,
 "nbformat_minor": 2
}
